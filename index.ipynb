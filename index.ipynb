{
 "cells": [
  {
   "cell_type": "code",
   "execution_count": 1,
   "metadata": {
    "collapsed": false
   },
   "outputs": [
    {
     "name": "stdout",
     "output_type": "stream",
     "text": [
      "10.413677701765664\n"
     ]
    }
   ],
   "source": [
    "import linkbot\n",
    "l = linkbot.Linkbot('DGKR')\n",
    "print(l.battery.percentage())"
   ]
  },
  {
   "cell_type": "markdown",
   "metadata": {},
   "source": [
    "Well, this is interesting.\n",
    "\n",
    "Heading\n",
    "-------\n",
    "\n",
    "Ok.\n",
    "\n",
    "Check out [this video](https://www.youtube.com/watch?v=q7YK9tPRdHo)\n"
   ]
  },
  {
   "cell_type": "code",
   "execution_count": 2,
   "metadata": {
    "collapsed": false
   },
   "outputs": [
    {
     "data": {
      "text/plain": [
       "[<matplotlib.lines.Line2D at 0x7fe7f030c2b0>]"
      ]
     },
     "execution_count": 2,
     "metadata": {},
     "output_type": "execute_result"
    },
    {
     "data": {
      "image/png": "[encoded data removed]",
      "text/plain": [
       "<matplotlib.figure.Figure at 0x7fe7f298f9e8>"
      ]
     },
     "metadata": {},
     "output_type": "display_data"
    }
   ],
   "source": [
    "%matplotlib inline\n",
    "\n",
    "from matplotlib import pyplot\n",
    "import linkbot\n",
    "l = linkbot.Linkbot('DGKR')\n",
    "\n",
    "class LinkbotMotorData:\n",
    "    def __init__(self):\n",
    "        self.angles = []\n",
    "        self.timestamps = []\n",
    "    def cb(self, angle, timestamp):\n",
    "        self.angles.append(angle)\n",
    "        self.timestamps.append(timestamp/1000)\n",
    "        \n",
    "data = LinkbotMotorData()\n",
    "\n",
    "l.motors[0].set_event_handler(data.cb)\n",
    "l.motors[0].move(90)\n",
    "\n",
    "pyplot.plot(data.timestamps, data.angles)"
   ]
  },
  {
   "cell_type": "code",
   "execution_count": 3,
   "metadata": {
    "collapsed": false
   },
   "outputs": [
    {
     "name": "stdout",
     "output_type": "stream",
     "text": [
      "(269.8060779523303, 0.0, -2.7459546123985663, 190775445)\n"
     ]
    }
   ],
   "source": [
    "print(l.motors.angles())"
   ]
  },
  {
   "cell_type": "code",
   "execution_count": 5,
   "metadata": {
    "collapsed": false
   },
   "outputs": [
    {
     "name": "stdout",
     "output_type": "stream",
     "text": [
      "Enter somethingHello!\n",
      "You entered: Hello!\n"
     ]
    }
   ],
   "source": [
    "x = input('Enter something')\n",
    "print('You entered:', x)"
   ]
  },
  {
   "cell_type": "markdown",
   "metadata": {},
   "source": [
    "# Myeahp."
   ]
  }
 ],
 "metadata": {
  "kernelspec": {
   "display_name": "Python 3",
   "language": "python",
   "name": "python3"
  },
  "language_info": {
   "codemirror_mode": {
    "name": "ipython",
    "version": 3
   },
   "file_extension": ".py",
   "mimetype": "text/x-python",
   "name": "python",
   "nbconvert_exporter": "python",
   "pygments_lexer": "ipython3",
   "version": "3.5.1"
  }
 },
 "nbformat": 4,
 "nbformat_minor": 0
}
